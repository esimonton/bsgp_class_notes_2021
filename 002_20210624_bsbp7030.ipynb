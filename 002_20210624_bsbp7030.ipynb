{
 "cells": [
  {
   "cell_type": "markdown",
   "metadata": {},
   "source": [
    "# Binder Discussion"
   ]
  },
  {
   "cell_type": "markdown",
   "metadata": {},
   "source": [
    "## Instructions\n",
    "1. Start binder (r_with_python)\n",
    "1. Clone the lecture notes repository\n"
   ]
  },
  {
   "cell_type": "markdown",
   "metadata": {},
   "source": [
    "Docker is a useful tool for building containers\n",
    "www.docker.com"
   ]
  },
  {
   "cell_type": "markdown",
   "metadata": {},
   "source": [
    "Mybinder.org uses the software binderhub to build binders for people to use.\n",
    "binderhub uses repo2docker to build the containers.  These are then launched by binderhub for you to use."
   ]
  },
  {
   "cell_type": "markdown",
   "metadata": {},
   "source": [
    "repo2docker \n",
    "https://github.com/jupyterhub/repo2docker\n",
    "    \n",
    "Documentation\n",
    "https://repo2docker.readthedocs.io/\n",
    "    \n",
    "Instructions for configuration are given at:\n",
    "https://repo2docker.readthedocs.io/en/latest/configuration/index.html"
   ]
  },
  {
   "cell_type": "markdown",
   "metadata": {},
   "source": [
    "The best approach to building a binder is to just use conda.\n",
    "\n",
    "Conda is a package management system.  In Binder setup using conda to build the environment, the binder software will look for a file called environment.yml.  If it finds it will feed that file to conda, which will then create an environment."
   ]
  },
  {
   "cell_type": "markdown",
   "metadata": {},
   "source": [
    "## Goal is to build a conda based binder\n"
   ]
  },
  {
   "cell_type": "markdown",
   "metadata": {},
   "source": [
    "## First thing is to launch any binder"
   ]
  },
  {
   "cell_type": "markdown",
   "metadata": {},
   "source": [
    "Then open a terminal\n",
    "\n",
    "\n",
    "- git clone https://github.com/mafreitas/conda_binder.git\n",
    "- cd conda_binder/\n",
    "- mkdir binder\n",
    "- cd binder\n",
    "- touch environment.yml\n"
   ]
  },
  {
   "cell_type": "code",
   "execution_count": null,
   "metadata": {},
   "outputs": [],
   "source": []
  }
 ],
 "metadata": {
  "kernelspec": {
   "display_name": "Python 3",
   "language": "python",
   "name": "python3"
  },
  "language_info": {
   "codemirror_mode": {
    "name": "ipython",
    "version": 3
   },
   "file_extension": ".py",
   "mimetype": "text/x-python",
   "name": "python",
   "nbconvert_exporter": "python",
   "pygments_lexer": "ipython3",
   "version": "3.7.3"
  }
 },
 "nbformat": 4,
 "nbformat_minor": 2
}
